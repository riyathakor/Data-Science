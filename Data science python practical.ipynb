{
 "cells": [
  {
   "cell_type": "code",
   "execution_count": 1,
   "id": "c723a4a7",
   "metadata": {},
   "outputs": [
    {
     "name": "stdout",
     "output_type": "stream",
     "text": [
      "2401\n"
     ]
    }
   ],
   "source": [
    "num = 7 \n",
    "a = 7**4\n",
    "print(a)\n"
   ]
  },
  {
   "cell_type": "code",
   "execution_count": 7,
   "id": "44373337",
   "metadata": {},
   "outputs": [
    {
     "name": "stdout",
     "output_type": "stream",
     "text": [
      "['Hi', 'there', 'Sam!']\n"
     ]
    }
   ],
   "source": [
    "s = (\"Hi there Sam!\")\n",
    "s.split()\n",
    "print(s.split())\n"
   ]
  },
  {
   "cell_type": "code",
   "execution_count": 8,
   "id": "c75721b2",
   "metadata": {},
   "outputs": [
    {
     "name": "stdout",
     "output_type": "stream",
     "text": [
      "The diameter of Earth is 12742 kilometer\n"
     ]
    }
   ],
   "source": [
    "planet = (\"Earth\")\n",
    "diameter = 12742\n",
    "print(\"The diameter of {} is {} kilometer\".format(planet,diameter))\n"
   ]
  },
  {
   "cell_type": "code",
   "execution_count": 9,
   "id": "3439315d",
   "metadata": {},
   "outputs": [
    {
     "name": "stdout",
     "output_type": "stream",
     "text": [
      "hello\n"
     ]
    }
   ],
   "source": [
    "lst=[1,2,[3,4],[5,[100,200,['hello']],23,11],1,7]\n",
    "def find_hello(lst):\n",
    "    for elem in lst:\n",
    "        if isinstance(elem,list):\n",
    "            find_hello(elem)\n",
    "        elif elem=='hello':\n",
    "                print(\"hello\")\n",
    "find_hello(lst)\n"
   ]
  },
  {
   "cell_type": "code",
   "execution_count": 22,
   "id": "55ada4a3",
   "metadata": {},
   "outputs": [
    {
     "name": "stdout",
     "output_type": "stream",
     "text": [
      "hello\n"
     ]
    }
   ],
   "source": [
    "d={'k1':[1,2,3,{'tricky':['oh','man','inception',{'target':[1,2,3,'hello']}]}]}\n",
    "hello_word=d['k1'][3]['tricky'][3]['target'][3]\n",
    "print(hello_word)"
   ]
  },
  {
   "cell_type": "code",
   "execution_count": 23,
   "id": "266286b3",
   "metadata": {},
   "outputs": [
    {
     "name": "stdout",
     "output_type": "stream",
     "text": [
      "domain.com\n"
     ]
    }
   ],
   "source": [
    "def domainGet(email):\n",
    "    return email.split('@')[-1]\n",
    "print(domainGet('user@domain.com'))\n"
   ]
  },
  {
   "cell_type": "code",
   "execution_count": 24,
   "id": "d2869693",
   "metadata": {},
   "outputs": [
    {
     "name": "stdout",
     "output_type": "stream",
     "text": [
      "True\n"
     ]
    }
   ],
   "source": [
    "def findDog(st):\n",
    "    return 'dog' in st.lower().split()\n",
    "print(findDog('Is there a dog here?'))\n"
   ]
  },
  {
   "cell_type": "code",
   "execution_count": 25,
   "id": "62908fe0",
   "metadata": {},
   "outputs": [
    {
     "name": "stdout",
     "output_type": "stream",
     "text": [
      "['soup', 'salad']\n"
     ]
    }
   ],
   "source": [
    "seq = ['soup','dog','salad','cat','great']\n",
    "print(list(filter(lambda word: word[0]=='s',seq)))\n"
   ]
  },
  {
   "cell_type": "code",
   "execution_count": 26,
   "id": "5b31cfab",
   "metadata": {},
   "outputs": [
    {
     "name": "stdout",
     "output_type": "stream",
     "text": [
      "Small Ticket\n",
      "Big Ticket\n"
     ]
    }
   ],
   "source": [
    "def caught_speeding(speed, is_birthday):\n",
    "    \n",
    "    if is_birthday:\n",
    "        speeding = speed - 5\n",
    "    else:\n",
    "        speeding = speed\n",
    "    \n",
    "    if speeding > 80:\n",
    "        return 'Big Ticket'\n",
    "    elif speeding > 60:\n",
    "        return 'Small Ticket'\n",
    "    else:\n",
    "        return 'No Ticket'\n",
    "print(caught_speeding(81,True))    \n",
    "print(caught_speeding(81,False))\n"
   ]
  },
  {
   "cell_type": "code",
   "execution_count": 27,
   "id": "1765735f",
   "metadata": {},
   "outputs": [
    {
     "name": "stdout",
     "output_type": "stream",
     "text": [
      "enter your roll no:22000268\n",
      "enter your name:Riya\n",
      "enter marks in physics:67\n",
      "enter marks in chemistry:55\n",
      "enter marks in maths:78\n",
      "total= 200.0\n",
      "percentage= 66.66666666666666\n",
      "Grade: PASS\n",
      "FIRST CLASS\n"
     ]
    }
   ],
   "source": [
    "rollno=int(input(\"enter your roll no:\"))\n",
    "name=input(\"enter your name:\")\n",
    "physics=float(input(\"enter marks in physics:\"))\n",
    "chemistry=float(input(\"enter marks in chemistry:\"))\n",
    "maths=float(input(\"enter marks in maths:\"))\n",
    "total=physics+chemistry+maths\n",
    "print(\"total=\",total)\n",
    "percentage=(total/300)*100\n",
    "print(\"percentage=\",percentage)\n",
    "if ((maths>=40)and (physics>=40) and (chemistry>=40)):\n",
    "    print(\"Grade: PASS\")\n",
    "    if (percentage>=70):\n",
    "        print(\"DISCTICTION\")\n",
    "    elif (percentage>=60):\n",
    "        print(\"FIRST CLASS\")\n",
    "    elif (percentage>=50):\n",
    "        print(\"SECOND CLASS\")\n",
    "    else:\n",
    "        print(\"PASS CLASS\")\n",
    "else:\n",
    "    print(\"Grade: FAIL\")\n"
   ]
  },
  {
   "cell_type": "code",
   "execution_count": 28,
   "id": "960ec2c6",
   "metadata": {},
   "outputs": [
    {
     "name": "stdout",
     "output_type": "stream",
     "text": [
      "Enter employee ID: 22000268\n",
      "Enter employee name: Riya\n",
      "Enter basic salary: 50000\n",
      "Enter years of experience: 5\n",
      "\n",
      "Employee Details:\n",
      "Employee ID: 22000268\n",
      "Employee Name: Riya\n",
      "Basic Salary: 50000.0\n",
      "Experience (in years): 5\n",
      "\n",
      "Calculated Components:\n",
      "HRA: 17500.0\n",
      "DA: 28999.999999999996\n",
      "PF: 4750.0\n",
      "Bonus: 8000.0\n",
      "\n",
      "Net Salary: 99750.0\n"
     ]
    }
   ],
   "source": [
    "class Employee:\n",
    "    def _init_(self):\n",
    "        self.empid = None\n",
    "        self.name = None\n",
    "        self.basic_salary = None\n",
    "        self.experience_years = None\n",
    "        self.hra = None\n",
    "        self.da = None\n",
    "        self.pf = None\n",
    "        self.bonus = None\n",
    "        self.net_salary = None\n",
    "\n",
    "    # Getter and Setter methods\n",
    "    def get_empid(self):\n",
    "        return self.empid\n",
    "\n",
    "    def set_empid(self, empid):\n",
    "        self.empid = empid\n",
    "\n",
    "    def get_name(self):\n",
    "        return self.name\n",
    "\n",
    "    def set_name(self, name):\n",
    "        self.name = name\n",
    "\n",
    "    def get_basic_salary(self):\n",
    "        return self.basic_salary\n",
    "\n",
    "    def set_basic_salary(self, basic_salary):\n",
    "        self.basic_salary = basic_salary\n",
    "\n",
    "    def get_experience_years(self):\n",
    "        return self.experience_years\n",
    "\n",
    "    def set_experience_years(self, experience_years):\n",
    "        self.experience_years = experience_years\n",
    "\n",
    "    # Calculate functions\n",
    "    def calculate_hra(self):\n",
    "        self.hra = 0.35 * self.basic_salary\n",
    "\n",
    "    def calculate_da(self):\n",
    "        self.da = 0.58 * self.basic_salary\n",
    "\n",
    "    def calculate_pf(self):\n",
    "        self.pf = 0.095 * self.basic_salary\n",
    "\n",
    "    def calculate_bonus(self):\n",
    "        if self.experience_years >= 30:\n",
    "            self.bonus = 0.59 * self.basic_salary\n",
    "        elif self.experience_years >= 23:\n",
    "            self.bonus = 0.51 * self.basic_salary\n",
    "        elif self.experience_years >= 15:\n",
    "            self.bonus = 0.45 * self.basic_salary\n",
    "        elif self.experience_years >= 7:\n",
    "            self.bonus = 0.33 * self.basic_salary\n",
    "        else:\n",
    "            self.bonus = 0.16 * self.basic_salary\n",
    "\n",
    "    def calculate_net_salary(self):\n",
    "        self.net_salary = (\n",
    "            self.basic_salary + self.hra + self.da - self.pf + self.bonus\n",
    "        )\n",
    "# Driver code\n",
    "def main():\n",
    "    employee = Employee()\n",
    "    # Input values from the user\n",
    "    employee.set_empid(input(\"Enter employee ID: \"))\n",
    "    employee.set_name(input(\"Enter employee name: \"))\n",
    "    employee.set_basic_salary(float(input(\"Enter basic salary: \")))\n",
    "    employee.set_experience_years(int(input(\"Enter years of experience: \")))\n",
    "    # Calculate values\n",
    "    employee.calculate_hra()\n",
    "    employee.calculate_da()\n",
    "    employee.calculate_pf()\n",
    "    employee.calculate_bonus()\n",
    "    employee.calculate_net_salary()\n",
    "    # Displaying the results\n",
    "    print(\"\\nEmployee Details:\")\n",
    "    print(\"Employee ID:\", employee.get_empid())\n",
    "    print(\"Employee Name:\", employee.get_name())\n",
    "    print(\"Basic Salary:\", employee.get_basic_salary())\n",
    "    print(\"Experience (in years):\", employee.get_experience_years())\n",
    "\n",
    "    print(\"\\nCalculated Components:\")\n",
    "    print(\"HRA:\", employee.hra)\n",
    "    print(\"DA:\", employee.da)\n",
    "    print(\"PF:\", employee.pf)\n",
    "    print(\"Bonus:\", employee.bonus)\n",
    "    print(\"\\nNet Salary:\", employee.net_salary)\n",
    "if __name__ == \"__main__\":\n",
    "    main()\n"
   ]
  },
  {
   "cell_type": "code",
   "execution_count": null,
   "id": "50252dda",
   "metadata": {},
   "outputs": [],
   "source": []
  },
  {
   "cell_type": "code",
   "execution_count": null,
   "id": "102efd91",
   "metadata": {},
   "outputs": [],
   "source": []
  },
  {
   "cell_type": "code",
   "execution_count": 30,
   "id": "90001a6d",
   "metadata": {},
   "outputs": [
    {
     "name": "stdout",
     "output_type": "stream",
     "text": [
      "Enter a number: 1\n",
      "Enter a number: 2\n",
      "Enter a number: 3\n",
      "Enter a number: 4\n",
      "Enter a number: 4\n",
      "Enter a number: 3\n",
      "Enter a number: 6\n",
      "Enter a number: 7\n",
      "Result after removing duplicates: (8.0, 6.0)\n"
     ]
    }
   ],
   "source": [
    "class NumberProcessor:\n",
    "    def __init__(self, n):\n",
    "        self.n = n\n",
    "        self.number_list = []\n",
    "        self.new_list = []\n",
    "\n",
    "    def input_numbers(self):\n",
    "        for _ in range(self.n):\n",
    "            number = float(input(\"Enter a number: \"))\n",
    "            self.number_list.append(number)\n",
    "    def calculate_and_save(self):\n",
    "        for i in range(self.n // 2):\n",
    "            sum_of_elements = self.number_list[i] + self.number_list[self.n - 1 - i]\n",
    "            self.new_list.append(sum_of_elements)\n",
    "    def remove_duplicates_and_display(self):\n",
    "        unique_new_list = list(set(self.new_list))\n",
    "        tuple_result = tuple(unique_new_list)\n",
    "        print(\"Result after removing duplicates:\", tuple_result)\n",
    "def main():\n",
    "    n = 8  # Assuming 8 numbers need to be inputted\n",
    "    processor = NumberProcessor(n)\n",
    "    processor.input_numbers()\n",
    "    processor.calculate_and_save()\n",
    "    processor.remove_duplicates_and_display()\n",
    "if __name__ == \"__main__\":\n",
    "    main()\n"
   ]
  },
  {
   "cell_type": "code",
   "execution_count": 31,
   "id": "868986e0",
   "metadata": {},
   "outputs": [
    {
     "name": "stdout",
     "output_type": "stream",
     "text": [
      "Addition is 8\n",
      "5 Raised To 3 is 125\n",
      "Concat is 53\n",
      "Maximum is 5\n",
      "Minimum is 3\n"
     ]
    }
   ],
   "source": [
    "class Num:\n",
    "    def __init__(self,n=0):\n",
    "        self.n = n  \n",
    "    def setnum(self,n):\n",
    "        self.n = n\n",
    "    def getnum(self):\n",
    "        return self.n  \n",
    "    def add(self, a):\n",
    "        result = self.n + a.n\n",
    "        return Num(result)\n",
    "    def raisedTo (self, a):\n",
    "        result = self.n ** a.n\n",
    "        return Num(result)\n",
    "    def concat (self, a):\n",
    "        result = int(str(self.n) + str(a.n))\n",
    "        return Num(result)\n",
    "    def max(self,a):\n",
    "        result = max(self.n , a.n)\n",
    "        return Num(result)\n",
    "    def min(self, a):\n",
    "        result = min(self.n, a.n)\n",
    "        return Num(result)\n",
    "#Example usage:\n",
    "n1 = Num(5)\n",
    "n2 = Num()\n",
    "n2.setnum(3)\n",
    "n3 = n1.add(n2)\n",
    "print(\"Addition is\",n3.getnum())\n",
    "n3 = n1.raisedTo(n2)\n",
    "print(n1.getnum(),\"Raised To\", n2.getnum(),\"is\",n3.getnum())\n",
    "n3 = n1.concat(n2)\n",
    "print(\"Concat is\",n3.getnum())\n",
    "n3 = n1.max(n2)\n",
    "print(\"Maximum is\",n3.getnum())\n",
    "n3 = n1.min(n2)\n",
    "print(\"Minimum is\",n3.getnum())\n"
   ]
  },
  {
   "cell_type": "code",
   "execution_count": 26,
   "id": "e6605375",
   "metadata": {},
   "outputs": [
    {
     "name": "stdout",
     "output_type": "stream",
     "text": [
      "Enter id number:45667\n",
      "Enter name:jiva\n",
      "(45667, 'jiva', 'jiva@nuv.ac.in')\n",
      "None\n"
     ]
    }
   ],
   "source": [
    "#Write a python program to access following data structure data=[(12345,\"Diksha\",\"Diksha r@nuv.ac.in\")(45667,\"jiva\",\"jiva@nuv.ac.in\"),(16789,\"Ronit\",\"Ronit@nuv.ac.in\"),(68433,\"Heena\",\"Heena@nuv.ac.in\")]\n",
    "\n",
    "\n",
    "data=[(12345,\"Diksha\",\"Diksha r@nuv.ac.in\"),(45667,\"jiva\",\"jiva@nuv.ac.in\"),(16789,\"Ronit\",\"Ronit@nuv.ac.in\"),(68433,\"Heena\",\"Heena@nuv.ac.in\")]\n",
    "id_num = int(input(\"Enter id number:\"))\n",
    "    def search_id(id_num):\n",
    "        if(id_num==12345):\n",
    "            print(data[0])\n",
    "        elif(id_num==45667):\n",
    "            print(data[1])\n",
    "        elif(id_num==16789):\n",
    "            print(data[2])\n",
    "        elif(id_num==68433):\n",
    "            print(data[3])\n",
    "        else:\n",
    "            print(\"data not found\")\n",
    "\n",
    "name = (input(\"Enter name:\"))\n",
    "def search_name(name):\n",
    "    if(name==Diksha):\n",
    "        print(data[0])\n",
    "    elif(name==jiva):\n",
    "        print(data[1])\n",
    "    elif(name==Ronit):\n",
    "        print(data[2])\n",
    "    elif(name==Heena):\n",
    "        print(data[3])\n",
    "    else:\n",
    "        print(\"Name not found\")\n",
    "        \n",
    "print(search_id(id_num))"
   ]
  },
  {
   "cell_type": "code",
   "execution_count": 33,
   "id": "7474181f",
   "metadata": {},
   "outputs": [
    {
     "name": "stdout",
     "output_type": "stream",
     "text": [
      "Enter id to search:12345\n",
      "Student is 12345 name Diksha email address Diksha r@nuv.ac.in\n",
      "Enter name to search:jiva\n",
      "Student is 45667 name jiva email address jiva@nuv.ac.in\n"
     ]
    }
   ],
   "source": [
    "data=[(12345,\"Diksha\",\"Diksha r@nuv.ac.in\"),\n",
    "      (45667,\"jiva\",\"jiva@nuv.ac.in\"),\n",
    "      (16789,\"Ronit\",\"Ronit@nuv.ac.in\"),\n",
    "      (68433,\"Heena\",\"Heena@nuv.ac.in\")]\n",
    "\n",
    "def searchmyid(uid):\n",
    "    for tup in data:\n",
    "        if tup[0]==uid:\n",
    "            sid=tup[0]\n",
    "            sname=tup[1]\n",
    "            semail=tup[2]\n",
    "            print(f'Student is {sid} name {sname} email address {semail}')\n",
    "\n",
    "def searchmyname(uname):\n",
    "    for tup in data:\n",
    "        if tup[1]==uname:\n",
    "            sid=tup[0]\n",
    "            sname=tup[1]\n",
    "            semail=tup[2]\n",
    "            print(f'Student is {sid} name {sname} email address {semail}')\n",
    "            \n",
    "uid=int(input(\"Enter id to search:\"))\n",
    "searchmyid(uid)\n",
    "\n",
    "uname = input(\"Enter name to search:\")\n",
    "searchmyname(uname)"
   ]
  },
  {
   "cell_type": "markdown",
   "id": "097e3592",
   "metadata": {},
   "source": [
    "\"\"\"Write a python program to access following dictnonary \n",
    "Mydict = {\"Enrollment Id\" :[12345,45667,16789,69433],\n",
    "\"Student Name :[\"Diksha\",\"Jiva\",\"Ronit\",\"Heena\"],\n",
    "\"Email Id\" :[\"Diska r@nuv.ac.in\",\"Jiva@nuv.ac.in\",\"Ronit@nuv.ac.in\",\"Heena@nuv.ac.in\"]}\n",
    "\n",
    "print(f\"{enrollid:7}{sname:12}{emailid:25}\")\"\"\""
   ]
  },
  {
   "cell_type": "code",
   "execution_count": 38,
   "id": "14951735",
   "metadata": {},
   "outputs": [
    {
     "name": "stdout",
     "output_type": "stream",
     "text": [
      "Enter name:Ronit\n",
      "16789          Ronit          Ronit@nuv.ac.in          \n",
      "Enter Id:45667\n",
      "45667          Jiva           Jiva@nuv.ac.in           \n"
     ]
    }
   ],
   "source": [
    "Mydict = {\"Enrollment Id\" :[12345,45667,16789,69433],\n",
    "\"Student Name\" :[\"Diksha\",\"Jiva\",\"Ronit\",\"Heena\"],\n",
    "\"Email Id\" :[\"Diksha r@nuv.ac.in\",\"Jiva@nuv.ac.in\",\"Ronit@nuv.ac.in\",\"Heena@nuv.ac.in\"]}\n",
    "\n",
    "\n",
    "def search(value):\n",
    "    for dc in Mydict:\n",
    "        if value in Mydict[dc]:\n",
    "            i=Mydict[dc].index(value)\n",
    "            enrollid=Mydict[\"Enrollment Id\"][i]\n",
    "            ename=Mydict[\"Student Name\"][i]\n",
    "            eemail=Mydict[\"Email Id\"][i]\n",
    "            print(f\"{enrollid:<15}{ename:<15}{eemail:<25}\")\n",
    "\n",
    "value = input(\"Enter name:\")\n",
    "search(value)\n",
    "\n",
    "value = int(input(\"Enter Id:\"))\n",
    "search(value)\n"
   ]
  },
  {
   "cell_type": "code",
   "execution_count": 6,
   "id": "440bdc3f",
   "metadata": {},
   "outputs": [
    {
     "name": "stdout",
     "output_type": "stream",
     "text": [
      "Enrollment Id   Student Name         Email Id                      \n",
      "12345           Diksha               Diksha r@nuv.ac.in            \n",
      "45667           Jiva                 Jiva@nuv.ac.in                \n",
      "16789           Ronit                Ronitd@nuv.ac.in              \n",
      "68433           Heena                Heena@nuv.ac.in               \n"
     ]
    }
   ],
   "source": [
    "def dictionary(data):\n",
    "    keys = [\"Enrollment Id\", \"Student Name\", \"Email Id\"]\n",
    "    my_dict = {key: [] for key in keys}\n",
    "\n",
    "    for a in data:\n",
    "        my_dict[\"Enrollment Id\"].append(a[0])\n",
    "        my_dict[\"Student Name\"].append(a[1])\n",
    "        my_dict[\"Email Id\"].append(a[2])\n",
    "\n",
    "    return my_dict\n",
    "\n",
    "def display(my_dict):\n",
    "    print(\"{:<15} {:<20} {:<30}\".format(\"Enrollment Id\", \"Student Name\", \"Email Id\"))\n",
    "    for i in range(len(my_dict[\"Enrollment Id\"])):\n",
    "        enrollment_id = my_dict[\"Enrollment Id\"][i]\n",
    "        student_name = my_dict[\"Student Name\"][i]\n",
    "        email_id = my_dict[\"Email Id\"][i]\n",
    "        print(\"{:<15} {:<20} {:<30}\".format(enrollment_id, student_name, email_id))\n",
    "\n",
    "data = [\n",
    "    (12345, \"Diksha\", \"Diksha r@nuv.ac.in\"),\n",
    "    (45667, \"Jiva\", \"Jiva@nuv.ac.in\"),\n",
    "    (16789, \"Ronit\", \"Ronitd@nuv.ac.in\"),\n",
    "    (68433, \"Heena\", \"Heena@nuv.ac.in\")\n",
    "]\n",
    "\n",
    "my_dict = dictionary(data)\n",
    "display(my_dict)\n"
   ]
  },
  {
   "cell_type": "code",
   "execution_count": 7,
   "id": "d39b40fa",
   "metadata": {},
   "outputs": [
    {
     "name": "stdout",
     "output_type": "stream",
     "text": [
      "{'Enrollment id:': [12345, 45667, 16789, 68433], 'Student Name': ['Diksha', 'Jiva', 'Ronit', 'Heena'], 'Email Id': ['Diksha r@nuv.ac.in', 'Jiva@nuv.ac.in', 'Ronit@nuv.ac.in', 'Heena@nuv.ac.in']}\n"
     ]
    }
   ],
   "source": [
    "import json\n",
    "#To write any obiject to python\n",
    "fw=open(\"students.json\",\"w\")\n",
    "jsdata = json.dumps({'Enrollment id:':[12345,45667,16789,68433], 'Student Name': ['Diksha', 'Jiva', 'Ronit', 'Heena'], 'Email Id' :['Diksha r@nuv.ac.in', 'Jiva@nuv.ac.in', 'Ronit@nuv.ac.in', 'Heena@nuv.ac.in']})\n",
    "fw.write(jsdata)\n",
    "#To read any json objec from file\n",
    "fr=open(\"students.json\", \"r\")\n",
    "allStudents=json.load(fr)#reads whole file and returns the data\n",
    "print(allStudents)\n"
   ]
  },
  {
   "cell_type": "code",
   "execution_count": null,
   "id": "01444434",
   "metadata": {},
   "outputs": [],
   "source": []
  },
  {
   "cell_type": "code",
   "execution_count": null,
   "id": "53b74b18",
   "metadata": {},
   "outputs": [],
   "source": []
  },
  {
   "cell_type": "code",
   "execution_count": null,
   "id": "9c124966",
   "metadata": {},
   "outputs": [],
   "source": []
  },
  {
   "cell_type": "code",
   "execution_count": null,
   "id": "c2094ca9",
   "metadata": {},
   "outputs": [],
   "source": []
  },
  {
   "cell_type": "code",
   "execution_count": null,
   "id": "d47f653a",
   "metadata": {},
   "outputs": [],
   "source": []
  },
  {
   "cell_type": "code",
   "execution_count": null,
   "id": "11570d51",
   "metadata": {},
   "outputs": [],
   "source": []
  }
 ],
 "metadata": {
  "kernelspec": {
   "display_name": "Python 3 (ipykernel)",
   "language": "python",
   "name": "python3"
  },
  "language_info": {
   "codemirror_mode": {
    "name": "ipython",
    "version": 3
   },
   "file_extension": ".py",
   "mimetype": "text/x-python",
   "name": "python",
   "nbconvert_exporter": "python",
   "pygments_lexer": "ipython3",
   "version": "3.9.13"
  }
 },
 "nbformat": 4,
 "nbformat_minor": 5
}
